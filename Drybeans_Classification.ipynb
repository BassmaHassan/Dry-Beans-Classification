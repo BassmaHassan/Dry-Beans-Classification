{
 "cells": [
  {
   "cell_type": "code",
   "execution_count": null,
   "metadata": {
    "execution": {
     "iopub.execute_input": "2021-09-30T14:44:07.158133Z",
     "iopub.status.busy": "2021-09-30T14:44:07.157498Z",
     "iopub.status.idle": "2021-09-30T14:44:07.17284Z",
     "shell.execute_reply": "2021-09-30T14:44:07.171971Z",
     "shell.execute_reply.started": "2021-09-30T14:44:07.158096Z"
    }
   },
   "outputs": [],
   "source": [
    "import matplotlib.pyplot as plt\n",
    "import os\n",
    "import numpy as np\n",
    "import pandas as pd\n",
    "from scipy import stats\n",
    "import seaborn as sns\n",
    "import itertools\n",
    "%matplotlib inline\n",
    "import plotly\n",
    "import plotly.express as px\n",
    "import plotly.graph_objs as go\n",
    "import math\n",
    "plt.style.use(\"seaborn-whitegrid\")\n",
    "\n",
    "from sklearn.model_selection import train_test_split\n",
    "from sklearn.svm import SVC\n",
    "from sklearn.linear_model import LogisticRegression, SGDClassifier\n",
    "from sklearn.tree import DecisionTreeClassifier\n",
    "from sklearn.ensemble import RandomForestClassifier, GradientBoostingClassifier, AdaBoostClassifier, BaggingClassifier\n",
    "from sklearn.neighbors import KNeighborsClassifier\n",
    "from sklearn.neural_network import MLPClassifier\n",
    "from sklearn.ensemble import VotingClassifier, StackingClassifier\n",
    "from mlxtend.classifier import StackingCVClassifier\n",
    "from xgboost import XGBClassifier\n",
    "from lightgbm import LGBMClassifier\n",
    "\n",
    "from sklearn.metrics import r2_score, classification_report, confusion_matrix, roc_curve, auc, plot_confusion_matrix\n",
    "from sklearn.metrics import accuracy_score, f1_score\n",
    "from sklearn.feature_selection import mutual_info_classif\n",
    "from tqdm import tqdm\n",
    "from sklearn import preprocessing\n",
    "from sklearn.preprocessing import OneHotEncoder, MinMaxScaler, StandardScaler, LabelEncoder\n",
    "from sklearn.decomposition import PCA\n",
    "from sklearn.model_selection import KFold, StratifiedKFold, cross_val_score, GridSearchCV\n",
    "from scipy import stats\n",
    "from scipy.stats import skew\n",
    "import warnings\n",
    "warnings.filterwarnings(\"ignore\")"
   ]
  },
  {
   "cell_type": "markdown",
   "metadata": {},
   "source": [
    "### Data Fields:\n",
    "`ID` - an ID for this instance.\\\n",
    "Area - `(A)`, The area of a bean zone and the number of pixels within its boundaries.\\\n",
    "Perimeter - `(P)`, Bean circumference is defined as the length of its border.\\\n",
    "MajorAxisLength - `(L)`, The distance between the ends of the longest line that can be drawn from a bean.\\\n",
    "MinorAxisLength - `(I)`, The longest line that can be drawn from the bean while standing perpendicular to the main axis.\\\n",
    "AspectRatio - `(K)`, Defines the relationship between L and l`(L/I)`.\\\n",
    "Eccentricity - `(Ec)`, Eccentricity of the ellipse having the same moments as the region.\\\n",
    "ConvexArea - `(C)`, Number of pixels in the smallest convex polygon that can contain the area of a bean seed.\\\n",
    "EquivDiameter - `(Ed)`, The diameter of a circle having the same area as a bean seed area `sqrt(4*A/pi)`.\\\n",
    "Extent -`(Ex)`, The ratio of the pixels in the bounding box to the bean area.\\\n",
    "Solidity - `(S)`, Also known as convexity. The ratio of the pixels in the convex shell to those found in beans `(A/c)`.\\\n",
    "Roundness - `(R)`, Calculated with the following formula: `(4*pi*A)/(P^2)`.\\\n",
    "Compactness - `(CO)`, Measures the roundness of an object: `(Ed/L)`.\\\n",
    "ShapeFactor1 - `(SF1=L/A)`.\\\n",
    "ShapeFactor2 - `(SF2=I/A)`.\\\n",
    "ShapeFactor3 - `(SF3=A/(pi*L/2*L/2))`.\\\n",
    "ShapeFactor4 - `(SF4=A/(pi*L/2*I/2))`.\\\n",
    "`y` - the class of the bean. It can be any of BARBUNYA, SIRA, HOROZ, DERMASON, CALI, BOMBAY, and SEKER."
   ]
  },
  {
   "cell_type": "markdown",
   "metadata": {},
   "source": [
    "# Loading and exploring the dataset"
   ]
  },
  {
   "cell_type": "code",
   "execution_count": null,
   "metadata": {
    "execution": {
     "iopub.execute_input": "2021-09-30T14:44:07.174645Z",
     "iopub.status.busy": "2021-09-30T14:44:07.174203Z",
     "iopub.status.idle": "2021-09-30T14:44:07.250943Z",
     "shell.execute_reply": "2021-09-30T14:44:07.24997Z",
     "shell.execute_reply.started": "2021-09-30T14:44:07.174596Z"
    }
   },
   "outputs": [],
   "source": [
    "raw_data = pd.read_csv('train.csv')\n",
    "raw_data"
   ]
  },
  {
   "cell_type": "code",
   "execution_count": null,
   "metadata": {
    "execution": {
     "iopub.execute_input": "2021-09-30T14:44:07.253407Z",
     "iopub.status.busy": "2021-09-30T14:44:07.252971Z",
     "iopub.status.idle": "2021-09-30T14:44:07.271878Z",
     "shell.execute_reply": "2021-09-30T14:44:07.270906Z",
     "shell.execute_reply.started": "2021-09-30T14:44:07.253368Z"
    }
   },
   "outputs": [],
   "source": [
    "raw_data.info()"
   ]
  },
  {
   "cell_type": "code",
   "execution_count": null,
   "metadata": {
    "execution": {
     "iopub.execute_input": "2021-09-30T14:44:07.27397Z",
     "iopub.status.busy": "2021-09-30T14:44:07.273637Z",
     "iopub.status.idle": "2021-09-30T14:44:07.294334Z",
     "shell.execute_reply": "2021-09-30T14:44:07.293306Z",
     "shell.execute_reply.started": "2021-09-30T14:44:07.273936Z"
    }
   },
   "outputs": [],
   "source": [
    "# Converting dtype of target from object to categorical for label encoding\n",
    "raw_data.y = raw_data.y.astype('category')\n",
    "raw_data.info()"
   ]
  },
  {
   "cell_type": "code",
   "execution_count": null,
   "metadata": {
    "execution": {
     "iopub.execute_input": "2021-09-30T14:44:07.321337Z",
     "iopub.status.busy": "2021-09-30T14:44:07.320693Z",
     "iopub.status.idle": "2021-09-30T14:44:07.330045Z",
     "shell.execute_reply": "2021-09-30T14:44:07.329047Z",
     "shell.execute_reply.started": "2021-09-30T14:44:07.321206Z"
    }
   },
   "outputs": [],
   "source": [
    "raw_data.columns"
   ]
  },
  {
   "cell_type": "code",
   "execution_count": null,
   "metadata": {
    "execution": {
     "iopub.execute_input": "2021-09-30T14:44:07.331828Z",
     "iopub.status.busy": "2021-09-30T14:44:07.331378Z",
     "iopub.status.idle": "2021-09-30T14:44:07.343061Z",
     "shell.execute_reply": "2021-09-30T14:44:07.341793Z",
     "shell.execute_reply.started": "2021-09-30T14:44:07.331789Z"
    }
   },
   "outputs": [],
   "source": [
    "raw_data.isnull().sum()"
   ]
  },
  {
   "cell_type": "code",
   "execution_count": null,
   "metadata": {
    "execution": {
     "iopub.execute_input": "2021-09-30T14:44:07.344631Z",
     "iopub.status.busy": "2021-09-30T14:44:07.344305Z",
     "iopub.status.idle": "2021-09-30T14:44:07.3633Z",
     "shell.execute_reply": "2021-09-30T14:44:07.362394Z",
     "shell.execute_reply.started": "2021-09-30T14:44:07.344599Z"
    }
   },
   "outputs": [],
   "source": [
    "raw_data.duplicated().sum()"
   ]
  },
  {
   "cell_type": "code",
   "execution_count": null,
   "metadata": {
    "execution": {
     "iopub.execute_input": "2021-09-30T14:44:07.364953Z",
     "iopub.status.busy": "2021-09-30T14:44:07.364625Z",
     "iopub.status.idle": "2021-09-30T14:44:07.426496Z",
     "shell.execute_reply": "2021-09-30T14:44:07.425527Z",
     "shell.execute_reply.started": "2021-09-30T14:44:07.36492Z"
    }
   },
   "outputs": [],
   "source": [
    "raw_data.describe().T"
   ]
  },
  {
   "cell_type": "code",
   "execution_count": null,
   "metadata": {
    "execution": {
     "iopub.execute_input": "2021-09-30T14:44:07.428145Z",
     "iopub.status.busy": "2021-09-30T14:44:07.427766Z",
     "iopub.status.idle": "2021-09-30T14:44:07.437488Z",
     "shell.execute_reply": "2021-09-30T14:44:07.436358Z",
     "shell.execute_reply.started": "2021-09-30T14:44:07.4281Z"
    }
   },
   "outputs": [],
   "source": [
    "raw_data['y'].value_counts()"
   ]
  },
  {
   "cell_type": "markdown",
   "metadata": {},
   "source": [
    "## Data visualization"
   ]
  },
  {
   "cell_type": "code",
   "execution_count": null,
   "metadata": {
    "execution": {
     "iopub.execute_input": "2021-09-30T14:44:07.439376Z",
     "iopub.status.busy": "2021-09-30T14:44:07.438976Z",
     "iopub.status.idle": "2021-09-30T14:44:13.545455Z",
     "shell.execute_reply": "2021-09-30T14:44:13.544552Z",
     "shell.execute_reply.started": "2021-09-30T14:44:07.439338Z"
    }
   },
   "outputs": [],
   "source": [
    "plt.figure(figsize=(25, 25))\n",
    "for i, col in enumerate(list(raw_data.columns)):\n",
    "    plt.subplot(7, 4, i+1)\n",
    "    sns.histplot(raw_data[col], kde=True, bins=10)"
   ]
  },
  {
   "cell_type": "code",
   "execution_count": null,
   "metadata": {
    "execution": {
     "iopub.execute_input": "2021-09-30T14:44:13.564768Z",
     "iopub.status.busy": "2021-09-30T14:44:13.564427Z",
     "iopub.status.idle": "2021-09-30T14:44:25.017466Z",
     "shell.execute_reply": "2021-09-30T14:44:25.016428Z",
     "shell.execute_reply.started": "2021-09-30T14:44:13.564734Z"
    }
   },
   "outputs": [],
   "source": [
    "def plot_subplots(subplots, plot, n=3):\n",
    "    m = len(subplots)\n",
    "    height = (m//n + (m%n != 0)) * 4\n",
    "    plt.figure(figsize=(14, height))\n",
    "    for i, c in enumerate(subplots):\n",
    "        plt.subplot(m//n + min(1, m%n), n, i+1)\n",
    "        plot(c)\n",
    "        plt.tight_layout(pad=2.0)\n",
    "        plt.xticks(rotation=45)\n",
    "        \n",
    "num_cols = ['Area', 'Perimeter', 'MajorAxisLength', 'MinorAxisLength',\n",
    "           'AspectRation', 'Eccentricity', 'ConvexArea', 'EquivDiameter', 'Extent',\n",
    "           'Solidity', 'roundness', 'Compactness', 'ShapeFactor1', 'ShapeFactor2',\n",
    "           'ShapeFactor3', 'ShapeFactor4']\n",
    "\n",
    "plot_subplots(num_cols, lambda c: sns.barplot(data=raw_data, x='y', alpha=0.1, y=c))"
   ]
  },
  {
   "cell_type": "code",
   "execution_count": null,
   "metadata": {
    "execution": {
     "iopub.execute_input": "2021-09-30T14:44:25.019373Z",
     "iopub.status.busy": "2021-09-30T14:44:25.018986Z",
     "iopub.status.idle": "2021-09-30T14:44:59.416548Z",
     "shell.execute_reply": "2021-09-30T14:44:59.410529Z",
     "shell.execute_reply.started": "2021-09-30T14:44:25.019333Z"
    }
   },
   "outputs": [],
   "source": [
    "Strongly_corr_features = raw_data[[\"Area\",\"Perimeter\",\"AspectRation\",\"Eccentricity\",\"roundness\",\"Compactness\",\"y\"]]\n",
    "Strongly_corr_features.head()\n",
    "sns.set_theme(style=\"whitegrid\")\n",
    "sns.pairplot(Strongly_corr_features, hue=\"y\")"
   ]
  },
  {
   "cell_type": "code",
   "execution_count": null,
   "metadata": {
    "execution": {
     "iopub.execute_input": "2021-09-30T14:44:59.418361Z",
     "iopub.status.busy": "2021-09-30T14:44:59.418007Z",
     "iopub.status.idle": "2021-09-30T14:45:03.221855Z",
     "shell.execute_reply": "2021-09-30T14:45:03.220923Z",
     "shell.execute_reply.started": "2021-09-30T14:44:59.418327Z"
    }
   },
   "outputs": [],
   "source": [
    "visualization_df=raw_data.drop(['ID'], axis=1)\n",
    "i = 1\n",
    "plt.figure(figsize = [15, 15], tight_layout = 5)\n",
    "for column in visualization_df.drop(['y'], axis=1).columns:\n",
    "    plt.subplot(6, 3, i)\n",
    "    plt.scatter(data = visualization_df, x = column, y = 'y', c='c', edgecolors='black')\n",
    "    plt.xlabel(column)\n",
    "    plt.ylabel('Beans Classes')\n",
    "    plt.title(column + ' VS ' + 'Beans Classes')\n",
    "    i += 1\n",
    "plt.show()"
   ]
  },
  {
   "cell_type": "code",
   "execution_count": null,
   "metadata": {
    "execution": {
     "iopub.execute_input": "2021-09-30T14:45:03.226872Z",
     "iopub.status.busy": "2021-09-30T14:45:03.226619Z",
     "iopub.status.idle": "2021-09-30T14:45:03.234146Z",
     "shell.execute_reply": "2021-09-30T14:45:03.233243Z",
     "shell.execute_reply.started": "2021-09-30T14:45:03.226846Z"
    }
   },
   "outputs": [],
   "source": [
    "raw_data.y.mode()"
   ]
  },
  {
   "cell_type": "code",
   "execution_count": null,
   "metadata": {
    "execution": {
     "iopub.execute_input": "2021-09-30T14:45:03.237655Z",
     "iopub.status.busy": "2021-09-30T14:45:03.237076Z",
     "iopub.status.idle": "2021-09-30T14:45:03.243989Z",
     "shell.execute_reply": "2021-09-30T14:45:03.243058Z",
     "shell.execute_reply.started": "2021-09-30T14:45:03.237617Z"
    }
   },
   "outputs": [],
   "source": [
    "# from pandas.plotting import scatter_matrix\n",
    "\n",
    "# scatter_matrix(raw_data.drop(['ID'], axis=1), figsize=(25, 25), grid=True)\n",
    "# plt.show()"
   ]
  },
  {
   "cell_type": "code",
   "execution_count": null,
   "metadata": {
    "execution": {
     "iopub.execute_input": "2021-09-30T14:45:03.24582Z",
     "iopub.status.busy": "2021-09-30T14:45:03.245455Z",
     "iopub.status.idle": "2021-09-30T14:45:04.973777Z",
     "shell.execute_reply": "2021-09-30T14:45:04.972813Z",
     "shell.execute_reply.started": "2021-09-30T14:45:03.245787Z"
    }
   },
   "outputs": [],
   "source": [
    "corr = raw_data.corr()\n",
    "f,axes = plt.subplots(1,1,figsize = (20,15))\n",
    "sns.heatmap(corr, square=True, annot = True, linewidth = .5, center = 2, ax = axes, cmap='Blues')"
   ]
  },
  {
   "cell_type": "code",
   "execution_count": null,
   "metadata": {},
   "outputs": [],
   "source": []
  },
  {
   "cell_type": "markdown",
   "metadata": {},
   "source": [
    "## Feature Engineering:"
   ]
  },
  {
   "cell_type": "code",
   "execution_count": null,
   "metadata": {
    "execution": {
     "iopub.execute_input": "2021-09-30T14:45:04.975578Z",
     "iopub.status.busy": "2021-09-30T14:45:04.975229Z",
     "iopub.status.idle": "2021-09-30T14:45:05.003576Z",
     "shell.execute_reply": "2021-09-30T14:45:05.00212Z",
     "shell.execute_reply.started": "2021-09-30T14:45:04.975543Z"
    }
   },
   "outputs": [],
   "source": [
    "data = raw_data.copy()\n",
    "data.head(10)"
   ]
  },
  {
   "cell_type": "code",
   "execution_count": null,
   "metadata": {
    "execution": {
     "iopub.execute_input": "2021-09-30T14:45:05.005565Z",
     "iopub.status.busy": "2021-09-30T14:45:05.005171Z",
     "iopub.status.idle": "2021-09-30T14:45:06.896409Z",
     "shell.execute_reply": "2021-09-30T14:45:06.895508Z",
     "shell.execute_reply.started": "2021-09-30T14:45:05.005528Z"
    }
   },
   "outputs": [],
   "source": [
    "def make_mi_scores(X, y, discrete_features):\n",
    "    mi_scores = mutual_info_classif(X, y, discrete_features=discrete_features)\n",
    "    mi_scores = pd.Series(mi_scores, name=\"MI Scores\", index=X.columns)\n",
    "    mi_scores = mi_scores.sort_values(ascending=False)\n",
    "    return mi_scores\n",
    "\n",
    "def plot_mi_scores(scores):\n",
    "    scores = scores.sort_values(ascending=True)\n",
    "    width = np.arange(len(scores))\n",
    "    ticks = list(scores.index)\n",
    "    plt.barh(width, scores)\n",
    "    plt.yticks(width, ticks)\n",
    "    plt.title(\"Mutual Information Scores\")\n",
    "\n",
    "# Label encoding for categoricals\n",
    "for colname in data.select_dtypes(\"object\"):\n",
    "    data[colname], _ = data[colname].factorize()\n",
    "\n",
    "# All discrete features should now have integer dtypes (double-check this before using MI!)\n",
    "discrete_features = data.dtypes == int\n",
    "\n",
    "mi_scores = make_mi_scores(data.drop(columns=['ID', 'y']), data.y, discrete_features=False)\n",
    "plt.figure(dpi=100, figsize=(8, 5))\n",
    "plot_mi_scores(mi_scores)"
   ]
  },
  {
   "cell_type": "code",
   "execution_count": null,
   "metadata": {
    "execution": {
     "iopub.execute_input": "2021-09-30T14:45:06.898484Z",
     "iopub.status.busy": "2021-09-30T14:45:06.897759Z",
     "iopub.status.idle": "2021-09-30T14:45:06.927629Z",
     "shell.execute_reply": "2021-09-30T14:45:06.926737Z",
     "shell.execute_reply.started": "2021-09-30T14:45:06.898442Z"
    }
   },
   "outputs": [],
   "source": [
    "#Calc the skeweness of each continous feature\n",
    "\n",
    "def calc_skew(df):\n",
    "    print(\"\\nIF THE DATA IS HIGHLY SKEWED IF SKWENESS  > 1 OR < -1 \\n\")\n",
    "    for col in df.loc[:, df.dtypes != np.object ]:\n",
    "        print(\"the skewness of \",col,\"is :\",df[col].skew())\n",
    "\n",
    "calc_skew(data.drop(['ID','y'], axis=1))"
   ]
  },
  {
   "cell_type": "markdown",
   "metadata": {},
   "source": [
    "## Data Preparation"
   ]
  },
  {
   "cell_type": "code",
   "execution_count": null,
   "metadata": {
    "execution": {
     "iopub.execute_input": "2021-09-30T14:45:06.929471Z",
     "iopub.status.busy": "2021-09-30T14:45:06.92909Z",
     "iopub.status.idle": "2021-09-30T14:45:06.943112Z",
     "shell.execute_reply": "2021-09-30T14:45:06.942208Z",
     "shell.execute_reply.started": "2021-09-30T14:45:06.929433Z"
    }
   },
   "outputs": [],
   "source": [
    "def normalize_data(df,column):\n",
    "    return StandardScaler().fit_transform(np.array(df[column]).reshape(-1,1))\n",
    "\n",
    "def removeOutliers(df,outliersColomns):\n",
    "    z_scores = stats. zscore(df[outliersColomns]) \n",
    "    abs_z_scores = np. abs(z_scores)\n",
    "    filtered_entries = (abs_z_scores < 3). all(axis=1)\n",
    "    new_df = df[filtered_entries]\n",
    "    return new_df\n",
    "\n",
    "y_labels = ['DERMASON', 'SIRA', 'SEKER', 'HOROZ', 'CALI', 'BARBUNYA', 'BOMBAY']\n",
    "def removeOutliers_cat(df_raw,outliersColomns):\n",
    "    df = df_raw.copy()\n",
    "    for cat_ in y_labels:\n",
    "        df_ = df[df['y']==cat_]\n",
    "        z_scores = stats. zscore(df_[outliersColomns]) \n",
    "        abs_z_scores = np. abs(z_scores)\n",
    "        filtered_entries = (abs_z_scores < 4). all(axis=1)\n",
    "        df_ = df_[filtered_entries]\n",
    "        df = df[df['y']!=cat_]\n",
    "        df = df.append(df_)\n",
    "    return df\n",
    "\n",
    "# Transform data\n",
    "def transformation(df,columns,func):\n",
    "    for col in columns:\n",
    "        df[col]=func(df[col])\n",
    "    return df\n",
    "\n",
    "def encodingTarget(dataset, cols):\n",
    "    for col_name in cols:\n",
    "        dataset[col_name] = dataset[col_name].replace({'DERMASON' :0, 'SIRA':1, 'SEKER':2, 'HOROZ':3, 'CALI':4, 'BARBUNYA':5, 'BOMBAY':6})\n",
    "    return dataset\n",
    "\n",
    "def decodingTarget(dataset, cols):\n",
    "    for col_name in cols:\n",
    "        dataset[col_name] = dataset[col_name].replace({0:'DERMASON' ,1: 'SIRA', 2:'SEKER', 3:'HOROZ', 4:'CALI',5: 'BARBUNYA', 6:'BOMBAY'})\n",
    "    return dataset"
   ]
  },
  {
   "cell_type": "code",
   "execution_count": null,
   "metadata": {
    "execution": {
     "iopub.execute_input": "2021-09-30T14:45:06.94521Z",
     "iopub.status.busy": "2021-09-30T14:45:06.944747Z",
     "iopub.status.idle": "2021-09-30T14:45:06.99819Z",
     "shell.execute_reply": "2021-09-30T14:45:06.997101Z",
     "shell.execute_reply.started": "2021-09-30T14:45:06.945153Z"
    }
   },
   "outputs": [],
   "source": [
    "data = raw_data.copy()\n",
    "\n",
    "def prepare_data(df, isTest=False):\n",
    "    \n",
    "    outliersColomns = ['Area', 'Perimeter', 'MajorAxisLength', 'MinorAxisLength',\n",
    "                       'AspectRation', 'Eccentricity', 'ConvexArea', 'EquivDiameter', 'Extent',\n",
    "                       'Solidity', 'roundness', 'Compactness', 'ShapeFactor1', 'ShapeFactor2',\n",
    "                       'ShapeFactor3', 'ShapeFactor4']\n",
    "    if isTest == False:\n",
    "#         pass\n",
    "#         df=df[df['y']!='BOMBAY']\n",
    "        before_ = len(df)\n",
    "        # df = removeOutliers_cat(df,outliersColomns)\n",
    "        print('Removed ',before_ - len(df),' outliers')\n",
    "#         df = encodingTarget(df,['y'])\n",
    "        \n",
    "    # take log1p for right skewed and square for left skewedfeatures.\n",
    "#     right_skew_features = ['Area', 'Perimeter', 'MajorAxisLength', 'MinorAxisLength', 'EquivDiameter', 'ConvexArea']\n",
    "#     left_skew_features = ['Eccentricity', 'Solidity', 'roundness', 'ShapeFactor4', 'Extent']\n",
    "#     transformation(data, right_skew_features, np.log1p)\n",
    "#     transformation(data, left_skew_features, np.square)\n",
    "    \n",
    "    df['ShapeFactor5'] = df['MajorAxisLength'] / df['Perimeter']\n",
    "    df['ShapeFactor6'] = df['MinorAxisLength'] / df['Perimeter']\n",
    "    df['ShapeFactor7'] = df['Eccentricity'] * df['Area']\n",
    "    df['ShapeFactor8'] = df['Eccentricity'] * df['Perimeter']\n",
    "    df['ShapeFactor9'] = df['Extent'] * df['Area']\n",
    "    df['ShapeFactor10'] = df['Extent'] * df['Perimeter']\n",
    "    \n",
    "    NonScaledFeatures=['ID', 'y','Index']\n",
    "    for col_name in df.columns:\n",
    "        if col_name not in NonScaledFeatures:\n",
    "            scaled_col = col_name + '_r'\n",
    "            df[col_name] = df[col_name].fillna(df[col_name].mean())  \n",
    "            df[scaled_col]= df[col_name]\n",
    "            df[col_name]=normalize_data(df,col_name)\n",
    "            #make all values positive\n",
    "#             min_ = abs(df[col_name].min())\n",
    "#             df[col_name]= df[col_name] + min_\n",
    "            \n",
    "    return df\n",
    "  \n",
    "data = prepare_data(data)\n",
    "# labelencoder\n",
    "labelencoder = LabelEncoder()\n",
    "data['y'] = labelencoder.fit_transform(data['y'])\n",
    "        "
   ]
  },
  {
   "cell_type": "code",
   "execution_count": null,
   "metadata": {
    "execution": {
     "iopub.execute_input": "2021-09-30T14:45:06.999825Z",
     "iopub.status.busy": "2021-09-30T14:45:06.999457Z",
     "iopub.status.idle": "2021-09-30T14:45:07.128948Z",
     "shell.execute_reply": "2021-09-30T14:45:07.127796Z",
     "shell.execute_reply.started": "2021-09-30T14:45:06.99979Z"
    }
   },
   "outputs": [],
   "source": [
    "data.describe()"
   ]
  },
  {
   "cell_type": "code",
   "execution_count": null,
   "metadata": {
    "execution": {
     "iopub.execute_input": "2021-09-30T14:45:07.130776Z",
     "iopub.status.busy": "2021-09-30T14:45:07.130385Z",
     "iopub.status.idle": "2021-09-30T14:45:07.165709Z",
     "shell.execute_reply": "2021-09-30T14:45:07.164784Z",
     "shell.execute_reply.started": "2021-09-30T14:45:07.130737Z"
    }
   },
   "outputs": [],
   "source": [
    "data"
   ]
  },
  {
   "cell_type": "code",
   "execution_count": null,
   "metadata": {
    "execution": {
     "iopub.execute_input": "2021-09-30T14:45:07.167394Z",
     "iopub.status.busy": "2021-09-30T14:45:07.16704Z",
     "iopub.status.idle": "2021-09-30T14:45:07.173435Z",
     "shell.execute_reply": "2021-09-30T14:45:07.172479Z",
     "shell.execute_reply.started": "2021-09-30T14:45:07.167358Z"
    }
   },
   "outputs": [],
   "source": [
    "data.columns"
   ]
  },
  {
   "cell_type": "code",
   "execution_count": null,
   "metadata": {
    "execution": {
     "iopub.execute_input": "2021-09-30T14:45:07.175681Z",
     "iopub.status.busy": "2021-09-30T14:45:07.175033Z",
     "iopub.status.idle": "2021-09-30T14:45:07.18157Z",
     "shell.execute_reply": "2021-09-30T14:45:07.180581Z",
     "shell.execute_reply.started": "2021-09-30T14:45:07.175646Z"
    }
   },
   "outputs": [],
   "source": [
    "# print(\"Data after preprocessing: \")\n",
    "# plt.figure(figsize=(24, 25))\n",
    "# for i, col in enumerate(list(data.columns)):\n",
    "#     plt.subplot(10, 4, i+1)\n",
    "#     sns.histplot(data[col], kde=True, bins=10, color='grey')"
   ]
  },
  {
   "cell_type": "code",
   "execution_count": null,
   "metadata": {
    "execution": {
     "iopub.execute_input": "2021-09-30T14:45:07.183671Z",
     "iopub.status.busy": "2021-09-30T14:45:07.183005Z",
     "iopub.status.idle": "2021-09-30T14:45:11.419369Z",
     "shell.execute_reply": "2021-09-30T14:45:11.418502Z",
     "shell.execute_reply.started": "2021-09-30T14:45:07.18363Z"
    }
   },
   "outputs": [],
   "source": [
    "visualization_df=data.drop(['ID','Area_r', 'Perimeter_r', 'MajorAxisLength_r', 'MinorAxisLength_r',\n",
    "       'AspectRation_r', 'Eccentricity_r', 'ConvexArea_r', 'EquivDiameter_r',\n",
    "       'Extent_r', 'Solidity_r', 'roundness_r', 'Compactness_r',\n",
    "       'ShapeFactor1_r', 'ShapeFactor2_r', 'ShapeFactor3_r', 'ShapeFactor4_r',\n",
    "       'ShapeFactor5_r', 'ShapeFactor6_r', 'ShapeFactor7_r', 'ShapeFactor8_r',\n",
    "       'ShapeFactor9_r', 'ShapeFactor10_r'], axis=1)\n",
    "i = 1\n",
    "plt.figure(figsize = [20, 20], tight_layout = 5)\n",
    "for column in visualization_df.drop(['y'], axis=1).columns:\n",
    "    plt.subplot(5, 5, i)\n",
    "    plt.scatter(data = visualization_df, x = column, y = 'y', c='c', edgecolors='red')\n",
    "    plt.xlabel(column)\n",
    "    plt.ylabel('Beans Classes')\n",
    "    plt.title(column + ' VS ' + 'Beans Classes')\n",
    "    i += 1\n",
    "plt.show()"
   ]
  },
  {
   "cell_type": "code",
   "execution_count": null,
   "metadata": {
    "execution": {
     "iopub.execute_input": "2021-09-30T14:45:11.421208Z",
     "iopub.status.busy": "2021-09-30T14:45:11.420817Z",
     "iopub.status.idle": "2021-09-30T14:45:11.425114Z",
     "shell.execute_reply": "2021-09-30T14:45:11.424311Z",
     "shell.execute_reply.started": "2021-09-30T14:45:11.421168Z"
    }
   },
   "outputs": [],
   "source": [
    "# # Define the lambda function: categorize_label\n",
    "# categorize_label = lambda x: x.astype('category')\n",
    "\n",
    "# # Convert df[LABELS] to a categorical type\n",
    "# df[LABELS] = df[LABELS].apply(categorize_label, axis=0)\n",
    "\n",
    "# # Print the converted dtypes\n",
    "# print(df[LABELS].dtypes)\n",
    "\n",
    "# # Calculate number of unique values for each label: num_unique_labels\n",
    "# num_unique_labels = data['y'].apply(pd.Series.nunique)\n",
    "\n",
    "# # Plot number of unique values for each label\n",
    "# num_unique_labels.plot(kind='bar')\n",
    "\n",
    "# # Label the axes\n",
    "# plt.xlabel('Labels')\n",
    "# plt.ylabel('Number of unique values')\n",
    "\n",
    "# # Display the plot\n",
    "# plt.show()"
   ]
  },
  {
   "cell_type": "markdown",
   "metadata": {},
   "source": [
    "## Features-labels split and train-validation split"
   ]
  },
  {
   "cell_type": "code",
   "execution_count": null,
   "metadata": {
    "execution": {
     "iopub.execute_input": "2021-09-30T14:45:11.426888Z",
     "iopub.status.busy": "2021-09-30T14:45:11.426354Z",
     "iopub.status.idle": "2021-09-30T14:45:11.450337Z",
     "shell.execute_reply": "2021-09-30T14:45:11.449504Z",
     "shell.execute_reply.started": "2021-09-30T14:45:11.426851Z"
    }
   },
   "outputs": [],
   "source": [
    "train_df, val_df = train_test_split(data, test_size=0.20, random_state=42, shuffle=True, stratify=data.y) \n",
    "\n",
    "x_train = train_df.drop(columns=['ID','y'])\n",
    "y_train = train_df['y']\n",
    "\n",
    "x_val = val_df.drop(columns=['ID','y'])\n",
    "y_val = val_df['y']"
   ]
  },
  {
   "cell_type": "code",
   "execution_count": null,
   "metadata": {
    "execution": {
     "iopub.execute_input": "2021-09-30T14:45:11.452079Z",
     "iopub.status.busy": "2021-09-30T14:45:11.451679Z",
     "iopub.status.idle": "2021-09-30T14:45:11.458362Z",
     "shell.execute_reply": "2021-09-30T14:45:11.457299Z",
     "shell.execute_reply.started": "2021-09-30T14:45:11.452042Z"
    }
   },
   "outputs": [],
   "source": [
    "x_train.shape[0], x_val.shape[0]"
   ]
  },
  {
   "cell_type": "code",
   "execution_count": null,
   "metadata": {
    "execution": {
     "iopub.execute_input": "2021-09-30T14:45:11.460324Z",
     "iopub.status.busy": "2021-09-30T14:45:11.459895Z",
     "iopub.status.idle": "2021-09-30T14:45:11.467914Z",
     "shell.execute_reply": "2021-09-30T14:45:11.466754Z",
     "shell.execute_reply.started": "2021-09-30T14:45:11.460286Z"
    }
   },
   "outputs": [],
   "source": [
    "# Train with ALL DATA to increase accuracy after it has been validated.\n",
    "\n",
    "x_train = data.drop(columns=['ID','y'])\n",
    "y_train = data['y']"
   ]
  },
  {
   "cell_type": "code",
   "execution_count": null,
   "metadata": {
    "execution": {
     "iopub.execute_input": "2021-09-30T14:45:11.469933Z",
     "iopub.status.busy": "2021-09-30T14:45:11.469638Z",
     "iopub.status.idle": "2021-09-30T14:45:21.03341Z",
     "shell.execute_reply": "2021-09-30T14:45:21.032583Z",
     "shell.execute_reply.started": "2021-09-30T14:45:11.469909Z"
    }
   },
   "outputs": [],
   "source": [
    "corr1= x_train.corr()\n",
    "f,axes = plt.subplots(1,1,figsize = (30,20))\n",
    "sns.heatmap(corr1, square=True, annot = True, linewidth = .5, center = 2, ax = axes, cmap='Blues')"
   ]
  },
  {
   "cell_type": "code",
   "execution_count": null,
   "metadata": {
    "execution": {
     "iopub.execute_input": "2021-09-30T14:45:21.035375Z",
     "iopub.status.busy": "2021-09-30T14:45:21.034792Z",
     "iopub.status.idle": "2021-09-30T14:45:21.065945Z",
     "shell.execute_reply": "2021-09-30T14:45:21.065039Z",
     "shell.execute_reply.started": "2021-09-30T14:45:21.035335Z"
    }
   },
   "outputs": [],
   "source": [
    "corr1.head()"
   ]
  },
  {
   "cell_type": "markdown",
   "metadata": {},
   "source": []
  },
  {
   "cell_type": "code",
   "execution_count": null,
   "metadata": {
    "execution": {
     "iopub.execute_input": "2021-09-30T14:57:29.888412Z",
     "iopub.status.busy": "2021-09-30T14:57:29.888082Z",
     "iopub.status.idle": "2021-09-30T14:57:29.893277Z",
     "shell.execute_reply": "2021-09-30T14:57:29.892306Z",
     "shell.execute_reply.started": "2021-09-30T14:57:29.888382Z"
    }
   },
   "outputs": [],
   "source": [
    "#dropped high correlated redundant features: 'ConvexArea', 'Compactness'\n",
    "\n",
    "model_columns = [\n",
    "        'MajorAxisLength', 'MinorAxisLength',\n",
    "       'AspectRation', 'Extent',\n",
    "       'Solidity', 'roundness','ShapeFactor4']"
   ]
  },
  {
   "cell_type": "code",
   "execution_count": null,
   "metadata": {
    "execution": {
     "iopub.execute_input": "2021-09-30T14:57:52.84929Z",
     "iopub.status.busy": "2021-09-30T14:57:52.848557Z",
     "iopub.status.idle": "2021-09-30T14:57:52.872786Z",
     "shell.execute_reply": "2021-09-30T14:57:52.871968Z",
     "shell.execute_reply.started": "2021-09-30T14:57:52.849252Z"
    }
   },
   "outputs": [],
   "source": [
    "\n",
    "y_labels_Post = ['DERMASON', 'SIRA', 'SEKER', 'HOROZ', 'CALI', 'BARBUNYA', 'BOMBAY']\n",
    "# y_labels = labelencoder.transform(y_labels_Post)\n",
    "print(y_labels_Post)\n",
    "def ModelPredictionsPostProcessing(predictions_t,train_x,param=[0.00397101, 0.008575, 635.011, 30917.0, 0.539964, 0.838197, 0.966603, 0.9637, 2.01, 126500.0, 0.49473, 0.70337, 66105.9, 1155.934, 237.238412, 454.231985, 305.811572, 75191.0, 0.005591039999999999, 0.815341, 0.515836, 0.817632, 0.387031]):\n",
    "  #This function do preprossing on the model predictions to decrease the errors of the model\n",
    "    predictions_ = predictions_t.copy()\n",
    "    for i in range(len(predictions_)):\n",
    "        if (train_x['ShapeFactor1_r'].array[i] < param[0]) and (train_x['Area_r'].array[i] >param[9]):#param1,param10\n",
    "            predictions_[i] = y_labels_Post[6]#'BOMBAY'\n",
    "        elif  (train_x['ShapeFactor1_r'].array[i] > param[1]) or (train_x['Perimeter_r'].array[i] < param[2]) or (train_x['Area_r'].array[i] <param[3]):#param2, param3, param4\n",
    "            predictions_[i] = y_labels_Post[0]#'DERMASON'\n",
    "        else:\n",
    "            if (train_x['Solidity_r'].array[i] >  0.9928774928774928 ) and predictions_[i] == y_labels_Post[ 0 ] :\n",
    "                predictions_[i] = y_labels_Post[ 2 ]\n",
    "            if (train_x['Extent_r'].array[i] <  0.7044686791405081 ) and predictions_[i] == y_labels_Post[ 2 ] :\n",
    "                    predictions_[i] = y_labels_Post[ 1 ]\n",
    "            if (train_x['Extent_r'].array[i] <  0.6469956019402373 ) and predictions_[i] == y_labels_Post[ 1 ] :\n",
    "                predictions_[i] = y_labels_Post[ 3 ]\n",
    "            if (train_x['roundness_r'].array[i] <  0.7959889783638006 ) and predictions_[i] == y_labels_Post[ 1 ] :\n",
    "                predictions_[i] = y_labels_Post[ 5 ]\n",
    "            if (train_x['Area_r'].array[i] <  55938 ) and predictions_[i] == y_labels_Post[ 4 ] :\n",
    "                predictions_[i] = y_labels_Post[ 3 ]\n",
    "            if (train_x['Extent_r'].array[i] <  0.6475477522670268 ) and predictions_[i] == y_labels_Post[ 5 ] :\n",
    "                predictions_[i] = y_labels_Post[ 3 ]\n",
    "            if (train_x['AspectRation_r'].array[i] <  1.4973590208757783 ) and predictions_[i] == y_labels_Post[ 4 ] :\n",
    "                predictions_[i] = y_labels_Post[ 5 ]\n",
    "            if (train_x['ShapeFactor4_r'].array[i] >  0.9989583842744816 ) and predictions_[i] == y_labels_Post[ 4 ] :\n",
    "                predictions_[i] = y_labels_Post[ 5 ]\n",
    "            if (train_x['ShapeFactor5_r'].array[i] >  0.387031233685577 ) and predictions_[i] == y_labels_Post[ 5 ] :\n",
    "                predictions_[i] = y_labels_Post[ 3 ]\n",
    "            if (train_x['ShapeFactor4_r'].array[i] <  0.9840169199256958 ) and predictions_[i] == y_labels_Post[ 1 ] :\n",
    "                predictions_[i] = y_labels_Post[ 3 ]\n",
    "            if (train_x['ShapeFactor5_r'].array[i] <  0.32719460392194527 ) and predictions_[i] == y_labels_Post[ 0 ] :\n",
    "                predictions_[i] = y_labels_Post[ 2 ]\n",
    "            if (train_x['Area_r'].array[i] >  57790 ) and predictions_[i] == y_labels_Post[ 1 ] :\n",
    "                predictions_[i] = y_labels_Post[ 5 ]\n",
    "            if (train_x['ShapeFactor4_r'].array[i] <  0.9840169199256958 ) and predictions_[i] == y_labels_Post[ 1 ] :\n",
    "                predictions_[i] = y_labels_Post[ 3 ]\n",
    "            if (train_x['Area_r'].array[i] >  57790 ) and predictions_[i] == y_labels_Post[ 1 ] :\n",
    "                predictions_[i] = y_labels_Post[ 5 ]\n",
    "            if (train_x['ShapeFactor4_r'].array[i] <  0.9840169199256958 ) and predictions_[i] == y_labels_Post[ 1 ] :\n",
    "                predictions_[i] = y_labels_Post[ 3 ]\n",
    "            if (train_x['ShapeFactor9_r'].array[i] >  43651.16685252113 ) and predictions_[i] == y_labels_Post[ 1 ] :\n",
    "                predictions_[i] = y_labels_Post[ 2 ]\n",
    "            if (train_x['Area_r'].array[i] <  55938 ) and predictions_[i] == y_labels_Post[ 4 ] :\n",
    "                predictions_[i] = y_labels_Post[ 3 ]\n",
    "            if (train_x['MinorAxisLength_r'].array[i] >  231.34609602337528 ) and predictions_[i] == y_labels_Post[ 3 ] :\n",
    "                predictions_[i] = y_labels_Post[ 4 ]\n",
    "            if (train_x['Perimeter_r'].array[i] >  881.1379999999998 ) and predictions_[i] == y_labels_Post[ 2 ] :\n",
    "                predictions_[i] = y_labels_Post[ 5 ]\n",
    "\n",
    "    return predictions_"
   ]
  },
  {
   "cell_type": "markdown",
   "metadata": {},
   "source": [
    "## Training different classification models on the dataset\n"
   ]
  },
  {
   "cell_type": "code",
   "execution_count": null,
   "metadata": {
    "execution": {
     "iopub.execute_input": "2021-09-30T14:45:21.1027Z",
     "iopub.status.busy": "2021-09-30T14:45:21.102265Z",
     "iopub.status.idle": "2021-09-30T14:45:21.111954Z",
     "shell.execute_reply": "2021-09-30T14:45:21.111164Z",
     "shell.execute_reply.started": "2021-09-30T14:45:21.102659Z"
    }
   },
   "outputs": [],
   "source": [
    "# pip install lazypredict"
   ]
  },
  {
   "cell_type": "code",
   "execution_count": null,
   "metadata": {
    "execution": {
     "iopub.execute_input": "2021-09-30T14:45:21.113765Z",
     "iopub.status.busy": "2021-09-30T14:45:21.113373Z",
     "iopub.status.idle": "2021-09-30T14:45:21.120831Z",
     "shell.execute_reply": "2021-09-30T14:45:21.120089Z",
     "shell.execute_reply.started": "2021-09-30T14:45:21.113729Z"
    }
   },
   "outputs": [],
   "source": [
    "# #  Lazy Predicror for best model:\n",
    "\n",
    "# from lazypredict.Supervised import LazyClassifier\n",
    "# from sklearn.utils import shuffle\n",
    "# # from sklearn import datasets\n",
    "\n",
    "# features = data.drop(columns=['ID','y'])\n",
    "# target = data['y']\n",
    "\n",
    "# X, Y = shuffle(features, target, random_state=42)\n",
    "# X = X.astype(np.float32)\n",
    "\n",
    "# offset = int(X.shape[0] * 0.9)\n",
    "\n",
    "# X_train, Y_train = X[:offset], Y[:offset]\n",
    "# X_test, y_test = X[offset:], Y[offset:]\n",
    "\n",
    "# cls_lazy = LazyClassifier(predictions=False)\n",
    "# models, predictions = cls_lazy.fit(X_train, X_test, Y_train, y_test)\n",
    "\n",
    "# print(models)"
   ]
  },
  {
   "cell_type": "markdown",
   "metadata": {},
   "source": [
    "### 1- GradientBoostingClassifier:"
   ]
  },
  {
   "cell_type": "code",
   "execution_count": null,
   "metadata": {
    "execution": {
     "iopub.execute_input": "2021-09-30T14:45:21.122091Z",
     "iopub.status.busy": "2021-09-30T14:45:21.121818Z",
     "iopub.status.idle": "2021-09-30T14:45:21.128768Z",
     "shell.execute_reply": "2021-09-30T14:45:21.127991Z",
     "shell.execute_reply.started": "2021-09-30T14:45:21.122069Z"
    }
   },
   "outputs": [],
   "source": [
    "# train with Gradient Boosting algorithm\n",
    "# compute the accuracy scores on train and validation sets when training with different learning rates\n",
    "\n",
    "# learning_rates = [0.01, 0.03, 0.05, 0.07, 0.1]\n",
    "# for learning_rate in learning_rates:\n",
    "#     gb = GradientBoostingClassifier(n_estimators=600, learning_rate = learning_rate,  max_depth = 5, random_state = 42)\n",
    "#     gb.fit(x_train, y_train)\n",
    "#     print(\"Learning rate: \", learning_rate)\n",
    "#     print(\"Accuracy score (training): {0:.3f}\".format(gb.score(x_train, y_train)))\n",
    "#     print(\"Accuracy score (validation): {0:.3f}\".format(gb.score(x_val, y_val)))\n",
    "#     print()\n",
    "# 0.05 is best , 1.0 on training and 0.938 on validation"
   ]
  },
  {
   "cell_type": "code",
   "execution_count": null,
   "metadata": {
    "execution": {
     "iopub.execute_input": "2021-09-30T14:45:21.130477Z",
     "iopub.status.busy": "2021-09-30T14:45:21.130117Z",
     "iopub.status.idle": "2021-09-30T14:45:21.136804Z",
     "shell.execute_reply": "2021-09-30T14:45:21.135986Z",
     "shell.execute_reply.started": "2021-09-30T14:45:21.130443Z"
    }
   },
   "outputs": [],
   "source": [
    "# # Gradient Boosting algorithm \n",
    "\n",
    "# gb_model = GradientBoostingClassifier( n_estimators=600, learning_rate=0.07, max_depth=5, random_state=42)\n",
    "# # param_grid = dict(n_estimators=[600], learning_rate=[0.05], max_depth=[5], random_state=[42])\n",
    "# # kfold = KFold(n_splits=10, shuffle=True, random_state=42)\n",
    "# # grid_search = GridSearchCV(gb, param_grid, scoring=\"accuracy\", cv=kfold, n_jobs=-1, verbose=False)#, return_train_score=True)\n",
    "\n",
    "# gb_model = gb_model.fit(x_train[model_columns], y_train)\n",
    "# predictions_GB = gb_model.predict(x_val[model_columns])\n",
    "\n",
    "# print(\"Mean_F1_score: \", f1_score(y_val, predictions_GB, average='micro'))\n",
    "\n",
    "# print(\"Classification Report: \\n\", classification_report(y_val, predictions_GB))"
   ]
  },
  {
   "cell_type": "markdown",
   "metadata": {},
   "source": [
    "### 2- XGB Classifier:"
   ]
  },
  {
   "cell_type": "code",
   "execution_count": null,
   "metadata": {
    "execution": {
     "iopub.execute_input": "2021-09-30T14:58:10.341544Z",
     "iopub.status.busy": "2021-09-30T14:58:10.341195Z",
     "iopub.status.idle": "2021-09-30T15:04:28.24611Z",
     "shell.execute_reply": "2021-09-30T15:04:28.2452Z",
     "shell.execute_reply.started": "2021-09-30T14:58:10.341515Z"
    }
   },
   "outputs": [],
   "source": [
    "# #XGB Classifier:\n",
    "\n",
    "xgb_model = XGBClassifier(learning_rate=0.07, random_state =42, objective='multi:softmax', max_depth=5, reg_alpha = 0.002, gamma=0.01, verbosity=0) \n",
    " \n",
    "xgb_model.fit(x_train[model_columns], y_train)\n",
    "kfold = KFold(n_splits=10, shuffle=True)\n",
    "kf_cv_scores = cross_val_score(xgb_model, x_train, y_train, cv=kfold )\n",
    "predictions_XGB = xgb_model.predict(x_val[model_columns])\n",
    "print('Mean_F1_score', f1_score(y_val, predictions_XGB, average='micro'))\n",
    "print(\"Classification Report: \\n\", classification_report(y_val, predictions_XGB))"
   ]
  },
  {
   "cell_type": "markdown",
   "metadata": {},
   "source": [
    "### 3- LightGB Classifier:"
   ]
  },
  {
   "cell_type": "code",
   "execution_count": null,
   "metadata": {
    "execution": {
     "iopub.execute_input": "2021-09-30T15:04:28.249066Z",
     "iopub.status.busy": "2021-09-30T15:04:28.248553Z",
     "iopub.status.idle": "2021-09-30T15:04:29.436878Z",
     "shell.execute_reply": "2021-09-30T15:04:29.436013Z",
     "shell.execute_reply.started": "2021-09-30T15:04:28.249013Z"
    }
   },
   "outputs": [],
   "source": [
    "# build the lightgbm model\n",
    "\n",
    "lgb_model = LGBMClassifier(objective='multiclass', random_state=42, learning_rate=0.03, reg_alpha=0.0001)\n",
    "lgb_model.fit(x_train[model_columns], y_train)\n",
    "predictions_LGB = lgb_model.predict(x_val[model_columns])\n",
    "print('Mean_F1_score', f1_score(y_val, predictions_LGB, average='micro'))\n",
    "print(\"Classification Report: \\n\", classification_report(y_val, predictions_LGB))"
   ]
  },
  {
   "cell_type": "markdown",
   "metadata": {},
   "source": [
    "### 4- BaggingClassifier:"
   ]
  },
  {
   "cell_type": "code",
   "execution_count": null,
   "metadata": {
    "execution": {
     "iopub.execute_input": "2021-09-30T15:04:29.439946Z",
     "iopub.status.busy": "2021-09-30T15:04:29.439605Z",
     "iopub.status.idle": "2021-09-30T15:04:29.442952Z",
     "shell.execute_reply": "2021-09-30T15:04:29.442183Z",
     "shell.execute_reply.started": "2021-09-30T15:04:29.439911Z"
    }
   },
   "outputs": [],
   "source": [
    "# bag_model = BaggingClassifier(random_state=42, n_estimators=30, oob_score=True) \n",
    "# bag_model = bag_model.fit(x_train[model_columns],y_train)\n",
    "\n",
    "# predictions_BAG = bag_model.predict(x_val[model_columns])\n",
    "# print('Mean_F1_score', f1_score(y_val, predictions_BAG, average='micro'))\n",
    "# print(\"Classification Report: \\n\", classification_report(y_val, predictions_BAG))"
   ]
  },
  {
   "cell_type": "markdown",
   "metadata": {},
   "source": [
    "### 5- MultiLayerPerceptronClassifier:"
   ]
  },
  {
   "cell_type": "code",
   "execution_count": null,
   "metadata": {
    "execution": {
     "iopub.execute_input": "2021-09-30T15:04:29.445051Z",
     "iopub.status.busy": "2021-09-30T15:04:29.444516Z",
     "iopub.status.idle": "2021-09-30T15:04:33.516186Z",
     "shell.execute_reply": "2021-09-30T15:04:33.515321Z",
     "shell.execute_reply.started": "2021-09-30T15:04:29.445002Z"
    }
   },
   "outputs": [],
   "source": [
    "# Create an instance of the MLPclassifier\n",
    "\n",
    "mlp_model = MLPClassifier(solver='adam', activation='logistic', alpha=1e-4, random_state=42, max_iter=1000, early_stopping=True, validation_fraction=0.2, warm_start=True, verbose=False, learning_rate ='adaptive', learning_rate_init=0.01)\n",
    "mlp_model = mlp_model.fit(x_train[model_columns], y_train)\n",
    "\n",
    "predictions_MLP = mlp_model.predict(x_val[model_columns])\n",
    "print('Mean_F1_score', f1_score(y_val, predictions_MLP, average='micro'))\n",
    "# print(\"The accuracy of the classifier on the validation set is \", (mlp_model.score(x_val[model_columns], y_val)))\n",
    "print(\"Classification Report\")\n",
    "print(classification_report(y_val, predictions_MLP))"
   ]
  },
  {
   "cell_type": "markdown",
   "metadata": {},
   "source": [
    "### 6- KNeighborsClassifier:"
   ]
  },
  {
   "cell_type": "code",
   "execution_count": null,
   "metadata": {
    "execution": {
     "iopub.execute_input": "2021-09-30T15:04:33.518138Z",
     "iopub.status.busy": "2021-09-30T15:04:33.517551Z",
     "iopub.status.idle": "2021-09-30T15:04:33.645043Z",
     "shell.execute_reply": "2021-09-30T15:04:33.643886Z",
     "shell.execute_reply.started": "2021-09-30T15:04:33.5181Z"
    }
   },
   "outputs": [],
   "source": [
    "kn_model = KNeighborsClassifier(algorithm='auto', weights ='distance', n_neighbors=15)#=10\n",
    "kn_model.fit(x_train[model_columns], y_train)\n",
    "          \n",
    "predictions_KN = kn_model.predict(x_val[model_columns])\n",
    "print('Mean_F1_score', f1_score(y_val, predictions_KN, average='micro'))\n",
    "print(\"Classification Report: \\n\", classification_report(y_val, predictions_KN))"
   ]
  },
  {
   "cell_type": "markdown",
   "metadata": {},
   "source": [
    "### 7- SupportVectorClassifier:"
   ]
  },
  {
   "cell_type": "code",
   "execution_count": null,
   "metadata": {
    "execution": {
     "iopub.execute_input": "2021-09-30T15:04:33.646776Z",
     "iopub.status.busy": "2021-09-30T15:04:33.646435Z",
     "iopub.status.idle": "2021-09-30T15:04:34.508066Z",
     "shell.execute_reply": "2021-09-30T15:04:34.507053Z",
     "shell.execute_reply.started": "2021-09-30T15:04:33.646741Z"
    }
   },
   "outputs": [],
   "source": [
    "svc_model = SVC(C=1.0, kernel='rbf', max_iter=-1, random_state=42, decision_function_shape='ovo', gamma=0.20)\n",
    "# svc_model = SVC(C=1.0, kernel='poly', degree=3, max_iter=-1, random_state=42, decision_function_shape='ovo', gamma=0.20)\n",
    "svc_model.fit(x_train[model_columns], y_train)\n",
    "\n",
    "predictions_SVC = svc_model.predict(x_val[model_columns])\n",
    "print('Mean_F1_score', f1_score(y_val, predictions_SVC, average='micro'))\n",
    "print(\"Classification Report: \\n\", classification_report(y_val, predictions_SVC))"
   ]
  },
  {
   "cell_type": "markdown",
   "metadata": {},
   "source": [
    "### 8- DecisionTreeClassifier:"
   ]
  },
  {
   "cell_type": "code",
   "execution_count": null,
   "metadata": {
    "execution": {
     "iopub.execute_input": "2021-09-30T15:04:34.509864Z",
     "iopub.status.busy": "2021-09-30T15:04:34.509516Z",
     "iopub.status.idle": "2021-09-30T15:04:34.513996Z",
     "shell.execute_reply": "2021-09-30T15:04:34.512943Z",
     "shell.execute_reply.started": "2021-09-30T15:04:34.509825Z"
    }
   },
   "outputs": [],
   "source": [
    "# dt_model = DecisionTreeClassifier(max_depth=5, min_samples_split=16, ccp_alpha=0.00001, random_state=42, criterion='gini')\n",
    "# dt_model.fit(x_train[model_columns], y_train)\n",
    "\n",
    "# predictions_DT = dt_model.predict(x_val[model_columns])\n",
    "# print('Mean_F1_score', f1_score(y_val, predictions_DT, average='micro'))\n",
    "\n",
    "# print(\"Classification Report: \\n\", classification_report(y_val, predictions_DT))"
   ]
  },
  {
   "cell_type": "markdown",
   "metadata": {},
   "source": [
    "### 9- RandomForestClassifier:"
   ]
  },
  {
   "cell_type": "code",
   "execution_count": null,
   "metadata": {
    "execution": {
     "iopub.execute_input": "2021-09-30T15:04:34.517105Z",
     "iopub.status.busy": "2021-09-30T15:04:34.516742Z",
     "iopub.status.idle": "2021-09-30T15:04:34.523705Z",
     "shell.execute_reply": "2021-09-30T15:04:34.522921Z",
     "shell.execute_reply.started": "2021-09-30T15:04:34.51707Z"
    }
   },
   "outputs": [],
   "source": [
    "# rf_model = RandomForestClassifier(n_estimators=1000, ccp_alpha=0.0001, criterion='entropy', max_depth=7, n_jobs=-1, random_state=42)\n",
    "# rf_model.fit(x_train[model_columns], y_train)\n",
    "\n",
    "# predictions_rf = rf_model.predict(x_val[model_columns])\n",
    "# print('Mean_F1_score', f1_score(y_val, predictions_rf, average='micro'))\n",
    "# print(\"Classification Report: \\n\", classification_report(y_val, predictions_rf))"
   ]
  },
  {
   "cell_type": "markdown",
   "metadata": {},
   "source": [
    "### 10- StochasticGradiantDescentClassifier:"
   ]
  },
  {
   "cell_type": "code",
   "execution_count": null,
   "metadata": {
    "execution": {
     "iopub.execute_input": "2021-09-30T15:04:34.525972Z",
     "iopub.status.busy": "2021-09-30T15:04:34.525601Z",
     "iopub.status.idle": "2021-09-30T15:04:34.532826Z",
     "shell.execute_reply": "2021-09-30T15:04:34.531819Z",
     "shell.execute_reply.started": "2021-09-30T15:04:34.525935Z"
    }
   },
   "outputs": [],
   "source": [
    "\n",
    "# sgdc = SGDClassifier(random_state=42, learning_rate='adaptive', eta0=0.1, max_iter=1000, shuffle=True, verbose=0, loss='modified_huber')\n",
    "# sgdc.fit(x_train[model_columns], y_train)\n",
    "\n",
    "# predictions_sgdc = sgdc.predict(x_val[model_columns])\n",
    "# print('Mean_F1_score', f1_score(y_val, predictions_sgdc, average='micro'))\n",
    "# print(\"Classification Report: \\n\", classification_report(y_val, predictions_sgdc))"
   ]
  },
  {
   "cell_type": "markdown",
   "metadata": {},
   "source": [
    "### 11- Naive Bayes Model:"
   ]
  },
  {
   "cell_type": "code",
   "execution_count": null,
   "metadata": {
    "execution": {
     "iopub.execute_input": "2021-09-30T15:04:34.534515Z",
     "iopub.status.busy": "2021-09-30T15:04:34.534142Z",
     "iopub.status.idle": "2021-09-30T15:04:34.541772Z",
     "shell.execute_reply": "2021-09-30T15:04:34.540726Z",
     "shell.execute_reply.started": "2021-09-30T15:04:34.534474Z"
    }
   },
   "outputs": [],
   "source": [
    "# from sklearn.naive_bayes import GaussianNB, MultinomialNB, BernoulliNB, CategoricalNB, ComplementNB\n",
    "\n",
    "# nb_model = GaussianNB(priors=None, var_smoothing=1e-09)\n",
    "# nb_model.partial_fit(x_train[model_columns], y_train, np.unique(y_train))\n",
    "\n",
    "# predictions_NB = nb_model.predict(x_val[model_columns])\n",
    "# print('Mean_F1_score', f1_score(y_val, predictions_NB, average='micro'))\n",
    "# print(\"Classification Report: \\n\", classification_report(y_val, predictions_NB))"
   ]
  },
  {
   "cell_type": "markdown",
   "metadata": {},
   "source": [
    "#### Ensemble method:"
   ]
  },
  {
   "cell_type": "code",
   "execution_count": null,
   "metadata": {
    "execution": {
     "iopub.execute_input": "2021-09-30T15:04:34.543453Z",
     "iopub.status.busy": "2021-09-30T15:04:34.543102Z",
     "iopub.status.idle": "2021-09-30T15:04:45.511798Z",
     "shell.execute_reply": "2021-09-30T15:04:45.510893Z",
     "shell.execute_reply.started": "2021-09-30T15:04:34.54342Z"
    }
   },
   "outputs": [],
   "source": [
    "#voting\n",
    "\n",
    "classifiers = [\n",
    "                ('SVC:', svc_model),\n",
    "#                ('MLP:', mlp_model),\n",
    "                ('LGB:', lgb_model),\n",
    "#                 ('GB:', gb_model),\n",
    "                 ('XGB:', xgb_model),\n",
    "#                 ('BAG:', bag_model),\n",
    "                ('KN:', kn_model),\n",
    "#                 ('DT:', dt_model),\n",
    "#                 ('NB:', nb_model),\n",
    "                ]\n",
    "    \n",
    "for clf_name, clf in classifiers:\n",
    "#     clf.fit(x_train[model_columns], y_train)\n",
    "    y_pred = clf.predict(x_val[model_columns])\n",
    "    print(clf_name, f1_score(y_val, y_pred, average='micro'))\n",
    "\n",
    "vc = VotingClassifier(estimators=classifiers)\n",
    "# kfold = StratifiedKFold(n_splits=10, random_state=42)\n",
    "# cv_results = cross_val_score(vc, x_train[model_columns], y_train, cv=kfold, scoring='f1_micro')\n",
    "vc.fit(x_train[model_columns], y_train)\n",
    "y_pred_voting = vc.predict(x_val[model_columns])\n",
    "print()\n",
    "print('Voting Classifier: ',f1_score(y_val, y_pred_voting, average='micro'))"
   ]
  },
  {
   "cell_type": "code",
   "execution_count": null,
   "metadata": {
    "execution": {
     "iopub.execute_input": "2021-09-30T15:04:45.51456Z",
     "iopub.status.busy": "2021-09-30T15:04:45.51394Z",
     "iopub.status.idle": "2021-09-30T15:04:45.518468Z",
     "shell.execute_reply": "2021-09-30T15:04:45.517555Z",
     "shell.execute_reply.started": "2021-09-30T15:04:45.514494Z"
    }
   },
   "outputs": [],
   "source": [
    "# predictions_output = ModelPredictionsPostProcessing(y_pred_voting, x_val)\n",
    "# print('Voting Classifier PostProcessing: ',accuracy_score(y_val, predictions_output))"
   ]
  },
  {
   "cell_type": "code",
   "execution_count": null,
   "metadata": {
    "execution": {
     "iopub.execute_input": "2021-09-30T15:04:45.520473Z",
     "iopub.status.busy": "2021-09-30T15:04:45.520004Z",
     "iopub.status.idle": "2021-09-30T15:04:45.527888Z",
     "shell.execute_reply": "2021-09-30T15:04:45.526963Z",
     "shell.execute_reply.started": "2021-09-30T15:04:45.52043Z"
    }
   },
   "outputs": [],
   "source": [
    "#stacking\n",
    "\n",
    "# sclf = StackingCVClassifier(classifiers=[gb_model, kn_model, svc_model, mlp_model, lgb_model, xgb_model, bag_model], meta_classifier=gb_model)\n",
    "\n",
    "# print('10-fold cross validation Stacking Classification:\\n')\n",
    "# for clf, label in zip([gb_model, kn_model, svc_model, mlp_model, lgb_model, xgb_model, bag_model], \n",
    "#                       ['GB:','KN:', 'SVC:', 'MLP:', 'LGB:', 'XGB:', 'BAG:']):\n",
    "#     sclf_scores = cross_val_score(clf, x_train[model_columns], y_train, cv=10, scoring='accuracy')\n",
    "#     print(\"Accuracy: %0.4f (+/- %0.4f) [%s]\" % (sclf_scores.mean(), sclf_scores.std(), label))\n",
    "\n",
    "# sclf.fit(x_train[model_columns], y_train)\n",
    "# y_pred_stacking = sclf.predict(x_val[model_columns])\n",
    "# # Evaluate the test-set accuracy of 'vc'\n",
    "# print('Stacking Classifier: ',accuracy_score(y_val, y_pred_stacking))"
   ]
  },
  {
   "cell_type": "code",
   "execution_count": null,
   "metadata": {},
   "outputs": [],
   "source": []
  },
  {
   "cell_type": "code",
   "execution_count": null,
   "metadata": {
    "execution": {
     "iopub.execute_input": "2021-09-30T15:04:45.529651Z",
     "iopub.status.busy": "2021-09-30T15:04:45.529242Z",
     "iopub.status.idle": "2021-09-30T15:04:45.540615Z",
     "shell.execute_reply": "2021-09-30T15:04:45.539559Z",
     "shell.execute_reply.started": "2021-09-30T15:04:45.529616Z"
    }
   },
   "outputs": [],
   "source": [
    "# print(\"Confusion Matrix:\")\n",
    "\n",
    "# y_labels = ['DERMASON', 'SIRA', 'SEKER', 'HOROZ', 'CALI', 'BARBUNYA', 'BOMBAY']\n",
    "# class_names= ['BARBUNYA', 'BOMBAY', 'CALI', 'DERMASON', 'HOROZ', 'SEKER', 'SIRA']\n",
    "# lgb = LGBMClassifier()\n",
    "# lgb.fit(x_train[model_columns], y_train)\n",
    "# np.set_printoptions(precision=5)\n",
    "# plt.rcParams.update({'font.size': 15})\n",
    "# fig, ax = plt.subplots(figsize=(10, 10),)\n",
    "# plot_confusion_matrix(lgb, x_val[model_columns], y_val, display_labels=class_names, xticks_rotation='vertical', cmap=plt.cm.Blues, ax=ax)\n",
    "# plt.show()"
   ]
  },
  {
   "cell_type": "markdown",
   "metadata": {},
   "source": [
    "## Reading the test file"
   ]
  },
  {
   "cell_type": "code",
   "execution_count": null,
   "metadata": {
    "execution": {
     "iopub.execute_input": "2021-09-30T15:04:45.543791Z",
     "iopub.status.busy": "2021-09-30T15:04:45.542902Z",
     "iopub.status.idle": "2021-09-30T15:04:45.581553Z",
     "shell.execute_reply": "2021-09-30T15:04:45.580634Z",
     "shell.execute_reply.started": "2021-09-30T15:04:45.543749Z"
    }
   },
   "outputs": [],
   "source": [
    "raw_test = pd.read_csv('test.csv')\n",
    "raw_test.sample(10)"
   ]
  },
  {
   "cell_type": "code",
   "execution_count": null,
   "metadata": {
    "execution": {
     "iopub.execute_input": "2021-09-30T15:04:45.583301Z",
     "iopub.status.busy": "2021-09-30T15:04:45.5829Z",
     "iopub.status.idle": "2021-09-30T15:04:45.591805Z",
     "shell.execute_reply": "2021-09-30T15:04:45.590711Z",
     "shell.execute_reply.started": "2021-09-30T15:04:45.583264Z"
    }
   },
   "outputs": [],
   "source": [
    "raw_test.isnull().sum()"
   ]
  },
  {
   "cell_type": "code",
   "execution_count": null,
   "metadata": {
    "execution": {
     "iopub.execute_input": "2021-09-30T15:04:45.593736Z",
     "iopub.status.busy": "2021-09-30T15:04:45.59323Z",
     "iopub.status.idle": "2021-09-30T15:04:46.570505Z",
     "shell.execute_reply": "2021-09-30T15:04:46.569727Z",
     "shell.execute_reply.started": "2021-09-30T15:04:45.593698Z"
    }
   },
   "outputs": [],
   "source": [
    "X_test = raw_test.copy()\n",
    "# X_test['Index']= 0\n",
    "# for i_ in range(len(X_test)):\n",
    "#     X_test['Index'].array[i_] =  i_\n",
    "# X_test_BOMBAY = X_test[ (X_test['ShapeFactor1']< 0.00397101) & (X_test['Area']> 0.008575) ] \n",
    "# X_test = X_test[ ((X_test['ShapeFactor1']>= 0.00397101) | (X_test['Area']<= 0.008575)) ] \n",
    "X_test = prepare_data(X_test, isTest=True)\n",
    "# X_test_BOMBAY = prepare_data(X_test_BOMBAY, isTest=True)\n",
    "# X_test = X_test.append(X_test_BOMBAY)\n",
    "# X_test = X_test.sort_values(by=\"Index\",ascending=True)\n",
    "\n",
    "X_test = X_test.drop(columns=['ID'])\n",
    "\n",
    "y_test_predicted_vc = vc.predict(X_test[model_columns])\n",
    "y_test_predicted_vc = labelencoder.inverse_transform(y_test_predicted_vc)\n",
    "\n",
    "predictions_output = ModelPredictionsPostProcessing(y_test_predicted_vc, X_test)\n",
    "# raw_test['y'] = y_test_predicted_vc\n",
    "raw_test['y'] = predictions_output\n",
    "# X_test['y'] = predictions_output\n",
    "# raw_test = decodingTarget(raw_test,['y'])\n",
    "raw_test"
   ]
  },
  {
   "cell_type": "code",
   "execution_count": null,
   "metadata": {
    "execution": {
     "iopub.execute_input": "2021-09-30T15:04:46.572282Z",
     "iopub.status.busy": "2021-09-30T15:04:46.571766Z",
     "iopub.status.idle": "2021-09-30T15:04:46.585225Z",
     "shell.execute_reply": "2021-09-30T15:04:46.584319Z",
     "shell.execute_reply.started": "2021-09-30T15:04:46.572235Z"
    }
   },
   "outputs": [],
   "source": [
    "raw_test[['ID', 'y']].to_csv('/kaggle/working/submission.csv', index=False)\n"
   ]
  },
  {
   "cell_type": "code",
   "execution_count": null,
   "metadata": {},
   "outputs": [],
   "source": []
  },
  {
   "cell_type": "code",
   "execution_count": null,
   "metadata": {},
   "outputs": [],
   "source": []
  },
  {
   "cell_type": "code",
   "execution_count": null,
   "metadata": {},
   "outputs": [],
   "source": []
  },
  {
   "cell_type": "code",
   "execution_count": null,
   "metadata": {},
   "outputs": [],
   "source": []
  },
  {
   "cell_type": "code",
   "execution_count": null,
   "metadata": {},
   "outputs": [],
   "source": []
  }
 ],
 "metadata": {
  "kernelspec": {
   "display_name": "Python 3 (ipykernel)",
   "language": "python",
   "name": "python3"
  },
  "language_info": {
   "codemirror_mode": {
    "name": "ipython",
    "version": 3
   },
   "file_extension": ".py",
   "mimetype": "text/x-python",
   "name": "python",
   "nbconvert_exporter": "python",
   "pygments_lexer": "ipython3",
   "version": "3.9.9"
  }
 },
 "nbformat": 4,
 "nbformat_minor": 4
}
